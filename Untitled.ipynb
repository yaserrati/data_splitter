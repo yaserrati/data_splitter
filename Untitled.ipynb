{
 "cells": [
  {
   "cell_type": "code",
   "execution_count": 1,
   "id": "7d06d139",
   "metadata": {},
   "outputs": [],
   "source": [
    "import pandas as pd\n",
    "import json\n",
    "import sqlite3\n",
    "import pyodbc"
   ]
  },
  {
   "cell_type": "code",
   "execution_count": 2,
   "id": "eb2ae855",
   "metadata": {},
   "outputs": [],
   "source": [
    "def split_data(input_csv, output_json, output_csv, db_name, db_table, json_percentage, db_percentage):\n",
    "    # Chargement des données à partir du fichier CSV\n",
    "    df = pd.read_csv(input_csv)\n",
    "\n",
    "    # Mélange des lignes pour une répartition aléatoire\n",
    "    df = df.sample(frac=1).reset_index(drop=True)\n",
    "\n",
    "    # Calcul du nombre de lignes pour chaque destination\n",
    "    total_rows = len(df)\n",
    "    json_rows = int(total_rows * json_percentage)\n",
    "    db_rows = int(total_rows * db_percentage)\n",
    "    csv_rows = total_rows - json_rows - db_rows\n",
    "\n",
    "    # Création du fichier JSON avec les données\n",
    "    json_data = df.iloc[:json_rows].to_dict(orient='records')\n",
    "    with open(output_json, 'w') as json_file:\n",
    "        json.dump(json_data, json_file)\n",
    "    # Création du fichier CSV sans l'en-tête\n",
    "    df.iloc[json_rows:json_rows + csv_rows].to_csv(output_csv, index=False, header=False)\n",
    "\n",
    "    # Transfert des données vers la base de données SQLite\n",
    "    db_connection = sqlite3.connect(db_name)\n",
    "    df.iloc[json_rows + csv_rows:].to_sql(db_table, db_connection, if_exists='replace', index=False)\n",
    "    db_connection.close()"
   ]
  },
  {
   "cell_type": "code",
   "execution_count": 3,
   "id": "12a2d1c1",
   "metadata": {},
   "outputs": [
    {
     "name": "stdout",
     "output_type": "stream",
     "text": [
      "Enter json percentage: 0.2\n",
      "Enter database percentage: 0.5\n"
     ]
    },
    {
     "ename": "NameError",
     "evalue": "name 'db_name' is not defined",
     "output_type": "error",
     "traceback": [
      "\u001b[1;31m---------------------------------------------------------------------------\u001b[0m",
      "\u001b[1;31mNameError\u001b[0m                                 Traceback (most recent call last)",
      "Cell \u001b[1;32mIn[3], line 8\u001b[0m\n\u001b[0;32m      5\u001b[0m json_percentage \u001b[38;5;241m=\u001b[39m \u001b[38;5;28mfloat\u001b[39m(\u001b[38;5;28minput\u001b[39m(\u001b[38;5;124m'\u001b[39m\u001b[38;5;124mEnter json percentage: \u001b[39m\u001b[38;5;124m'\u001b[39m))\n\u001b[0;32m      6\u001b[0m db_percentage \u001b[38;5;241m=\u001b[39m \u001b[38;5;28mfloat\u001b[39m(\u001b[38;5;28minput\u001b[39m(\u001b[38;5;124m'\u001b[39m\u001b[38;5;124mEnter database percentage: \u001b[39m\u001b[38;5;124m'\u001b[39m))\n\u001b[1;32m----> 8\u001b[0m split_data(input_csv, output_json, output_csv, \u001b[43mdb_name\u001b[49m, db_table, json_percentage, db_percentage)\n\u001b[0;32m     10\u001b[0m \u001b[38;5;28mprint\u001b[39m(\u001b[38;5;124m\"\u001b[39m\u001b[38;5;124mRépartition des données  terminées avec succès.\u001b[39m\u001b[38;5;124m\"\u001b[39m)\n",
      "\u001b[1;31mNameError\u001b[0m: name 'db_name' is not defined"
     ]
    }
   ],
   "source": [
    "# Example usage\n",
    "input_csv = \"Netflix Userbase.csv\"\n",
    "output_json = \"output_data_json.json\"\n",
    "output_csv = \"output_data_csv.csv\"\n",
    "json_percentage = float(input('Enter json percentage: '))\n",
    "db_percentage = float(input('Enter database percentage: '))\n",
    "\n",
    "split_data(input_csv, output_json, output_csv, db_name, db_table, json_percentage, db_percentage)\n",
    "\n",
    "print(\"Répartition des données  terminées avec succès.\")"
   ]
  },
  {
   "cell_type": "code",
   "execution_count": null,
   "id": "30be48de",
   "metadata": {},
   "outputs": [],
   "source": []
  }
 ],
 "metadata": {
  "kernelspec": {
   "display_name": "Python 3 (ipykernel)",
   "language": "python",
   "name": "python3"
  },
  "language_info": {
   "codemirror_mode": {
    "name": "ipython",
    "version": 3
   },
   "file_extension": ".py",
   "mimetype": "text/x-python",
   "name": "python",
   "nbconvert_exporter": "python",
   "pygments_lexer": "ipython3",
   "version": "3.10.9"
  }
 },
 "nbformat": 4,
 "nbformat_minor": 5
}
