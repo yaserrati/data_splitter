{
 "cells": [
  {
   "cell_type": "code",
   "execution_count": null,
   "id": "78d453ed",
   "metadata": {},
   "outputs": [],
   "source": [
    "import pandas as pd\n",
    "import json\n",
    "import sqlite3\n",
    "import pyodbc"
   ]
  },
  {
   "cell_type": "code",
   "execution_count": null,
   "id": "572ec395",
   "metadata": {},
   "outputs": [],
   "source": [
    "def split_data(input_csv, output_json, output_csv, db_name, db_table, json_percentage, db_percentage):\n",
    "    # Chargement des données à partir du fichier CSV\n",
    "    df = pd.read_csv(input_csv)\n",
    "\n",
    "    # Mélange des lignes pour une répartition aléatoire\n",
    "    df = df.sample(frac=1).reset_index(drop=True)\n",
    "\n",
    "    # Calcul du nombre de lignes pour chaque destination\n",
    "    total_rows = len(df)\n",
    "    json_rows = int(total_rows * json_percentage)\n",
    "    db_rows = int(total_rows * db_percentage)\n",
    "    csv_rows = total_rows - json_rows - db_rows\n",
    "\n",
    "    # Création du fichier JSON avec les données\n",
    "    json_data = df.iloc[:json_rows].to_dict(orient='records')\n",
    "    with open(output_json, 'w') as json_file:\n",
    "        json.dump(json_data, json_file)\n",
    "\n",
    "    # Création du fichier CSV sans l'en-tête\n",
    "    df.iloc[json_rows:json_rows + csv_rows].to_csv(output_csv, index=False, header=False)"
   ]
  },
  {
   "cell_type": "code",
   "execution_count": null,
   "id": "e4b330ef",
   "metadata": {},
   "outputs": [],
   "source": [
    "# Example usage\n",
    "input_csv = \"Netflix Userbase.csv\"\n",
    "output_json = \"output_data_json.json\"\n",
    "output_csv = \"output_data_csv.csv\"\n",
    "json_percentage = float(input('Enter json percentage: '))\n",
    "db_percentage = float(input('Enter database percentage: '))\n",
    "\n",
    "split_data(input_csv, output_json, output_csv, db_name, db_table, json_percentage, db_percentage)\n",
    "\n",
    "print(\"Répartition des données  terminées avec succès.\")"
   ]
  },
  {
   "cell_type": "code",
   "execution_count": null,
   "id": "4630c062",
   "metadata": {},
   "outputs": [],
   "source": []
  }
 ],
 "metadata": {
  "kernelspec": {
   "display_name": "Python 3 (ipykernel)",
   "language": "python",
   "name": "python3"
  },
  "language_info": {
   "codemirror_mode": {
    "name": "ipython",
    "version": 3
   },
   "file_extension": ".py",
   "mimetype": "text/x-python",
   "name": "python",
   "nbconvert_exporter": "python",
   "pygments_lexer": "ipython3",
   "version": "3.10.9"
  }
 },
 "nbformat": 4,
 "nbformat_minor": 5
}
